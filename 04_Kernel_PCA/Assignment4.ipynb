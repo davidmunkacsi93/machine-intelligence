{
 "cells": [
  {
   "cell_type": "markdown",
   "metadata": {},
   "source": [
    "# 4.1 Kernel PCA: Toy Data\n",
    "\n",
    "Group name: DataFun"
   ]
  },
  {
   "cell_type": "code",
   "execution_count": 2,
   "metadata": {
    "collapsed": true
   },
   "outputs": [],
   "source": [
    "import pandas as pd\n",
    "import numpy as np\n",
    "import matplotlib.pyplot as plt\n",
    "import scipy.linalg as la"
   ]
  },
  {
   "cell_type": "markdown",
   "metadata": {},
   "source": [
    "### (a) Create toy dataset"
   ]
  },
  {
   "cell_type": "code",
   "execution_count": 51,
   "metadata": {
    "scrolled": false
   },
   "outputs": [
    {
     "name": "stdout",
     "output_type": "stream",
     "text": [
      "(90, 2)\n"
     ]
    },
    {
     "data": {
      "image/png": "[encoded data removed]",
      "text/plain": [
       "<matplotlib.figure.Figure at 0x7fa45b54b3c8>"
      ]
     },
     "metadata": {},
     "output_type": "display_data"
    }
   ],
   "source": [
    "xMean = np.asarray([[-0.5, -0.2],[0, 0.6],[0.5, 0]])\n",
    "sd = 0.1\n",
    "toyDataset = np.empty([0,2])\n",
    "for mean in xMean:\n",
    "    toyDatasetPart = np.random.normal(mean, sd, [30,2])\n",
    "    toyDataset = np.concatenate((toyDataset, toyDatasetPart), axis=0)\n",
    "\n",
    "print(toyDataset.shape)\n",
    "\n",
    "# Plotting the results.\n",
    "plt.figure(figsize=(7,5))\n",
    "plt.scatter(toyDataset[:,0], toyDataset[:,1])\n",
    "plt.scatter(xMean[:,0], xMean[:,1], color=\"r\")\n",
    "plt.title(\"toyDataset\")\n",
    "plt.show()"
   ]
  },
  {
   "cell_type": "markdown",
   "metadata": {},
   "source": [
    "### (b) Apply Kernel PCA using RBF Kernel"
   ]
  },
  {
   "cell_type": "code",
   "execution_count": 60,
   "metadata": {},
   "outputs": [
    {
     "name": "stdout",
     "output_type": "stream",
     "text": [
      "unnormalized KM shape:  (90, 90)\n",
      "centered KM shape: (90, 90)\n",
      "orderedEigenvectors.shape: (90, 90)\n",
      "normalizeEigenvectors.shape: (90, 90)\n"
     ]
    }
   ],
   "source": [
    "def k(x_a, x_b, sig):\n",
    "    norm = np.linalg.norm(x_a - x_b)\n",
    "    return np.exp(- norm**2 / (2*sig**2))\n",
    "    \n",
    "def createKernelMatrix(x, sig):\n",
    "    p = x.shape[0] \n",
    "    KUnnormalized = np.empty([p,p])\n",
    "    for i in range(p):\n",
    "        for j in range(p):\n",
    "            KUnnormalized[i,j] = k(x[i], x[j], sig)\n",
    "    return KUnnormalized\n",
    "\n",
    "def centerKernelMatrix(KUC):\n",
    "    p = KUC.shape[0] \n",
    "    K = np.empty([p,p])\n",
    "    rowAverages = np.average(KUC, axis=0)\n",
    "    lineAverages = np.average(KUC, axis=1)\n",
    "    matrixAverge = np.average(KUC)\n",
    "    for i in range(p):\n",
    "        for j in range(p):\n",
    "            K[i,j] = KUC[i,j] - rowAverages[i] - lineAverages[j] + matrixAverge\n",
    "    return K\n",
    "\n",
    "\n",
    "sig = 1\n",
    "KernelMatrixUnnormalized = createKernelMatrix(toyDataset, sig)\n",
    "print(\"unnormalized KM shape: \", KernelMatrixUnnormalized.shape)\n",
    "centerdKernelMatrixUnnormalized = centerKernelMatrix(KernelMatrixUnnormalized)\n",
    "print(\"centered KM shape:\", centerdKernelMatrixUnnormalized.shape)\n",
    "\n",
    "def getOrderedEig(matrix):\n",
    "    eigenvals, eigenvecs = np.linalg.eig(matrix)\n",
    "    orderedInd = np.argsort(eigenvals)[::-1]\n",
    "    orderedEigenvals = eigenvals[orderedInd]\n",
    "    orderedEigenvecs = eigenvecs[orderedInd]\n",
    "    return (orderedEigenvals, orderedEigenvecs)\n",
    "\n",
    "orderedEigenvalues, orderedEigenvectors = getOrderedEig(centerdKernelMatrixUnnormalized)\n",
    "print(\"orderedEigenvectors.shape:\", orderedEigenvectors.shape)\n",
    "\n",
    "def normalizeEV(orderedEigenvals, orderedEigenvecs):\n",
    "    p = orderedEigenvals.shape[0]\n",
    "    normEV = np.empty([p,p])\n",
    "    for i in range(p):\n",
    "        normEV = orderedEigenvecs / np.sqrt(p*orderedEigenvals[i])\n",
    "    return normEV\n",
    "\n",
    "normalizedEigenvectors = normalizeEV(orderedEigenvalues, orderedEigenvectors)\n",
    "print(\"normalizeEigenvectors.shape:\", normalizedEigenvectors.shape)\n",
    "\n"
   ]
  },
  {
   "cell_type": "markdown",
   "metadata": {},
   "source": [
    "### (c) Visualize first 8 PC"
   ]
  },
  {
   "cell_type": "markdown",
   "metadata": {},
   "source": [
    "### (d) Discuss suitable applications for KPCA"
   ]
  }
 ],
 "metadata": {
  "kernelspec": {
   "display_name": "Python 3",
   "language": "python",
   "name": "python3"
  },
  "language_info": {
   "codemirror_mode": {
    "name": "ipython",
    "version": 3
   },
   "file_extension": ".py",
   "mimetype": "text/x-python",
   "name": "python",
   "nbconvert_exporter": "python",
   "pygments_lexer": "ipython3",
   "version": "3.6.1"
  }
 },
 "nbformat": 4,
 "nbformat_minor": 2
}
