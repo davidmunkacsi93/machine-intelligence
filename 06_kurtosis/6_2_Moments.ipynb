{
 "cells": [
  {
   "cell_type": "markdown",
   "metadata": {},
   "source": [
    "## 6.2 Moments of univariate distributions"
   ]
  },
  {
   "cell_type": "markdown",
   "metadata": {},
   "source": [
    "| | Laplace $(\\mu,b)$ | Gauss $(\\mu,\\sigma)$ | Uniform $(a,b)$ |\n",
    "| ------------- |:-------------:| :-------------:|:-------------:|\n",
    "| mean: first moment $\\langle X \\rangle$ | | | |\n",
    "| variance: second centered moment $\\langle X \\rangle^2_c$ | | | |\n",
    "| skewness: third standardized moment $\\langle X \\rangle^3_s$ | | | |\n",
    "| kurtosis: fourth standardized moment $\\langle X \\rangle^4_s$ | | | | |\n",
    "\n",
    "$$ \\langle X^i \\rangle_c = \\langle(X-\\langle X \\rangle)^i\\rangle $$\n",
    "$$ \\langle X^i \\rangle_s = \\frac{\\langle X^i \\rangle_c}{\\langle X^2 \\rangle^{i/2}_c}$$ "
   ]
  },
  {
   "cell_type": "code",
   "execution_count": null,
   "metadata": {
    "collapsed": true
   },
   "outputs": [],
   "source": []
  }
 ],
 "metadata": {
  "kernelspec": {
   "display_name": "Python 3",
   "language": "python",
   "name": "python3"
  },
  "language_info": {
   "codemirror_mode": {
    "name": "ipython",
    "version": 3
   },
   "file_extension": ".py",
   "mimetype": "text/x-python",
   "name": "python",
   "nbconvert_exporter": "python",
   "pygments_lexer": "ipython3",
   "version": "3.6.0"
  }
 },
 "nbformat": 4,
 "nbformat_minor": 2
}
