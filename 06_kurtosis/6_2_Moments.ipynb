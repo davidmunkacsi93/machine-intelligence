{
 "cells": [
  {
   "cell_type": "markdown",
   "metadata": {},
   "source": [
    "## 6.2 Moments of univariate distributions"
   ]
  },
  {
   "cell_type": "markdown",
   "metadata": {},
   "source": [
    "b) Moment generating function:\n",
    "\n",
    "$$ M_x(t) = exp(\\mu t +\\frac{\\sigma^2 t^2}{2})$$\n",
    "\n",
    "We get the 1st moment by derivating the generating function and setting $t$ to $0$\n",
    "\n",
    "$$ \\dots = \\mu $$\n",
    "\n",
    "Second moment (derivating the generating function two times and setting t to zero)\n",
    "\n",
    "$$ \\dots = \\mu^2 + \\sigma^2 $$\n",
    "\n",
    "Third moment\n",
    "\n",
    "$$ \\dots = \\mu^3 + 3\\mu\\sigma^2 $$\n",
    "\n",
    "Fourth moment\n",
    "\n",
    "$$ \\dots = \\mu^4 + 6\\mu^2\\sigma^2 3\\sigma^4 $$"
   ]
  },
  {
   "cell_type": "markdown",
   "metadata": {},
   "source": [
    "c) Uniform Distribution\n",
    "\n",
    "Moment generating function: $$ M_x = E(e^{t x}) = \\int_{a}^{b} e^{t x} \\frac{1}{b-a} = \\frac{1}{b-a} \\left[ \\frac{e^{t x}}{t}\\right]_a^b = \\frac{e^{t b} - e^{t a}}{t (b-a)} = \\frac{1}{t(b-a)} \\left[ bt + \\frac{(bt)^2}{2!} + \\frac{(bt)^3}{3!} - \\left( at + \\frac{(at)^2}{2!} + \\frac{(at)^3}{3!} \\right) \\right] = \\frac{1}{(b-a)} \\left[ b + \\frac{b^2 t}{2!} + \\frac{b^3 t^2}{3!} - \\left( a + \\frac{a^2 t}{2!} + \\frac{a^3 t^2}{3!} \\right) \\right] $$ \n",
    "\n",
    "We get the 1st moment by derivating $M_x$ one time and setting $t$ to $0$:\n",
    "$$ \\dots = \\frac{1}{(b-a)} \\left[ \\frac{b^2}{2!} - \\frac{a^2}{2!} \\right] = \\frac{b+a}{2} $$\n",
    "\n",
    "We get the 2nd moment by derivating $M_x$ two times and setting $t$ to $0$:\n",
    "$$ \\dots = \\frac{1}{(b-a)} \\left[ \\frac{b^3}{3} - \\frac{a^3}{3} \\right] = \\frac{b^3-a^3}{3(b-a)} = \\frac{b^2 +ba + a^2}{3} $$\n",
    "\n",
    "We get the 3rd moment by derivating $M_x$ three times and setting $t$ to $0$:\n",
    "$$ \\dots = \\frac{1}{(b-a)} \\left[ \\frac{b^4}{4} - \\frac{a^4}{4} \\right] = \\frac{b^4-a^4}{4(b-a)} $$\n",
    "\n",
    "Hence the 3rd standardized moment is\n",
    "$$ \\frac{\\frac{b^4-a^4}{4(b-a)}}{\\left(\\frac{b^3-a^3}{3(b-a)}\\right)^{\\frac{3}{2}}} = \\frac{b^4-a^4}{4(b-a)} \\left(\\frac{3(b-a)}{b^3-a^3}\\right)^{\\frac{2}{3}}  $$\n",
    "\n",
    "We get the 4th moment by derivating $M_x$ four times and setting $t$ to $0$:\n",
    "$$ \\dots = \\frac{1}{(b-a)} \\left[ \\frac{b^5}{5} - \\frac{a^5}{5} \\right] = \\frac{b^5-a^5}{5(b-a)} $$\n",
    "\n",
    "Hence the 3rd standardized moment is\n",
    "$$ \\frac{\\frac{b^5-a^5}{5(b-a)}}{\\left(\\frac{b^3-a^3}{3(b-a)}\\right)^{\\frac{4}{2}}} = \\frac{b^5-a^5}{5(b-a)} \\left(\\frac{3(b-a)}{b^3-a^3}\\right)^{2} = \\frac{9 (b^5-a^5) (b-a)}{5 (b^3-a^3)^2}  $$"
   ]
  },
  {
   "cell_type": "markdown",
   "metadata": {},
   "source": [
    "| | Laplace $(\\mu,b)$ | Gauss $(\\mu,\\sigma)$ | Uniform $(a,b)$ |\n",
    "| ------------- |:-------------:| :-------------:|:-------------:|\n",
    "| mean: first moment $\\langle X \\rangle$ | | $$ \\mu $$ | $\\frac{b+a}{2}$ |\n",
    "| variance: second centered moment $\\langle X \\rangle^2_c$ | | $$ \\mu + \\sigma $$ |$\\frac{b^2 +ba + a^2}{3}$ |\n",
    "| skewness: third standardized moment $\\langle X \\rangle^3_s$ | | $$ \\mu^3 + 3\\mu\\sigma^2 $$ | $\\frac{b^4-a^4}{4(b-a)} \\left(\\frac{3(b-a)}{b^3-a^3}\\right)^{\\frac{2}{3}}$ |\n",
    "| kurtosis: fourth standardized moment $\\langle X \\rangle^4_s$ |  | $$ \\mu^4 + 6\\mu^2\\sigma^2 3\\sigma^4 $$| $\\frac{9 (b^5-a^5) (b-a)}{5 (b^3-a^3)^2}$ |\n",
    "\n",
    "$$ \\langle X^i \\rangle_c = \\langle(X-\\langle X \\rangle)^i\\rangle $$\n",
    "$$ \\langle X^i \\rangle_s = \\frac{\\langle X^i \\rangle_c}{\\langle X^2 \\rangle^{i/2}_c}$$ "
   ]
  },
  {
   "cell_type": "code",
   "execution_count": null,
   "metadata": {
    "collapsed": true
   },
   "outputs": [],
   "source": []
  }
 ],
 "metadata": {
  "kernelspec": {
   "display_name": "Python 3",
   "language": "python",
   "name": "python3"
  },
  "language_info": {
   "codemirror_mode": {
    "name": "ipython",
    "version": 3
   },
   "file_extension": ".py",
   "mimetype": "text/x-python",
   "name": "python",
   "nbconvert_exporter": "python",
   "pygments_lexer": "ipython3",
   "version": "3.6.0"
  }
 },
 "nbformat": 4,
 "nbformat_minor": 2
}
