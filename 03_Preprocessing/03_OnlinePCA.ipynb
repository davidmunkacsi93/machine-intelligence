{
 "cells": [
  {
   "cell_type": "markdown",
   "metadata": {},
   "source": [
    "# PCA: batch processing and online-PCA"
   ]
  },
  {
   "cell_type": "markdown",
   "metadata": {},
   "source": [
    "## 3.1 Preprocessing"
   ]
  },
  {
   "cell_type": "markdown",
   "metadata": {},
   "source": [
    "### (a) Loading the dataset, computing and plotting the first two Principal Components."
   ]
  },
  {
   "cell_type": "code",
   "execution_count": null,
   "metadata": {
    "collapsed": true
   },
   "outputs": [],
   "source": []
  },
  {
   "cell_type": "markdown",
   "metadata": {},
   "source": [
    "### (b) Removing required observations and redoing the steps."
   ]
  },
  {
   "cell_type": "code",
   "execution_count": null,
   "metadata": {
    "collapsed": true
   },
   "outputs": [],
   "source": []
  },
  {
   "cell_type": "markdown",
   "metadata": {},
   "source": [
    "## 3.3 Derivation of Oja's rule"
   ]
  },
  {
   "cell_type": "markdown",
   "metadata": {},
   "source": [
    "We are moving out from the following normalization, what was introduced by Oja:\n",
    "\n",
    "$$ \\Large w_i(t+1) = \\frac{w_i(t)+\\epsilon y(t)x_i(t)}{(\\sum_{j=1}^{N} [w_j(t)+\\epsilon y(t)x_j(t)]^2)^{\\frac{1}{2}}} $$"
   ]
  },
  {
   "cell_type": "markdown",
   "metadata": {},
   "source": [
    "After taylor expanding the right side:"
   ]
  },
  {
   "cell_type": "markdown",
   "metadata": {},
   "source": [
    "$$ \\small \\approx  \\left.\\frac{w_i(t)}{(\\sum_{j=1}^{N} [w_j(t)]^2)^{\\frac{1}{2}}} + \\frac{ y(t)x_i(t) (\\sum_{j=1}^{N} [w_j(t)+\\epsilon y(t)x_j(t)]^2)^{\\frac{1}{2}} - (w_i(t) + \\epsilon y(t)x_i(t)) (\\sum_{j=1}^{N} [w_j(t)+\\epsilon y(t)x_j(t)]^2)^{-\\frac{1}{2}}\\sum_{j=1}^{N} 2[w_j(t)+\\epsilon y(t)x_j(t))y(t)x_j(t)]}{(\\sum_{j=1}^{N} [w_j(t)+\\epsilon y(t)x_j(t)]^2)^\\frac{1}{2}}\\right\\vert_{\\epsilon=0} \\epsilon$$"
   ]
  },
  {
   "cell_type": "markdown",
   "metadata": {},
   "source": [
    "$$ \\small \\approx \\frac{w_i(t)}{(\\sum_{j=1}^{N} w_j(t)^2)^{\\frac{1}{2}}} + \\frac{ y(t)x_i(t) (\\sum_{j=1}^{N} w_j(t)^2)^{\\frac{1}{2}} -\\frac{1}{2} w_i(t) (\\sum_{j=1}^{N} w_j(t)^2)^{-\\frac{1}{2}}\\sum_{j=1}^{N} 2w_j(t)y(t)x_j(t)}{(\\sum_{j=1}^{N} w_j(t)^2)}\\epsilon  $$"
   ]
  },
  {
   "cell_type": "markdown",
   "metadata": {},
   "source": [
    "Because of the normalization in the previous step we know: $ \\sum_{j=1}^{N} w_j(t)^2 = 1 $, therefore:"
   ]
  },
  {
   "cell_type": "markdown",
   "metadata": {},
   "source": [
    "$$\\large = w_i(t) + \\epsilon [y(t)x_i(t) - y(t) w_i(t) \\sum_{j=1}^{N} w_j(t) x_j(t)] $$"
   ]
  },
  {
   "cell_type": "markdown",
   "metadata": {},
   "source": [
    "With the definition of y: $ y(t)=\\sum_{j=1}^{N} w_j(t) x_j(t)$:"
   ]
  },
  {
   "cell_type": "markdown",
   "metadata": {},
   "source": [
    "$$\\Large w_i(t+1) \\approx w_i(t) + \\epsilon y(t)[x_i(t) - w_i(t)y(t)] $$"
   ]
  },
  {
   "cell_type": "markdown",
   "metadata": {},
   "source": [
    "This formula is what we wanted to achieve."
   ]
  },
  {
   "cell_type": "code",
   "execution_count": null,
   "metadata": {
    "collapsed": true
   },
   "outputs": [],
   "source": []
  }
 ],
 "metadata": {
  "kernelspec": {
   "display_name": "Python 3",
   "language": "python",
   "name": "python3"
  },
  "language_info": {
   "codemirror_mode": {
    "name": "ipython",
    "version": 3
   },
   "file_extension": ".py",
   "mimetype": "text/x-python",
   "name": "python",
   "nbconvert_exporter": "python",
   "pygments_lexer": "ipython3",
   "version": "3.6.0"
  }
 },
 "nbformat": 4,
 "nbformat_minor": 2
}
