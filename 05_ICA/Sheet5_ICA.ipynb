{
 "cells": [
  {
   "cell_type": "markdown",
   "metadata": {},
   "source": [
    "# Independent Component Analysis"
   ]
  },
  {
   "cell_type": "markdown",
   "metadata": {},
   "source": [
    "DataFun\n",
    "\n",
    "Members:\n",
    "Jan Botscch\n",
    "Fabian Frank\n",
    "David Munkacsi"
   ]
  },
  {
   "cell_type": "code",
   "execution_count": 1,
   "metadata": {
    "collapsed": true
   },
   "outputs": [],
   "source": [
    "import numpy as np\n",
    "import scipy.io.wavfile as wav\n",
    "import matplotlib.pyplot as plt\n",
    "import pandas as pd"
   ]
  },
  {
   "cell_type": "code",
   "execution_count": 2,
   "metadata": {
    "collapsed": false
   },
   "outputs": [
    {
     "name": "stdout",
     "output_type": "stream",
     "text": [
      "(2, 18000)\n",
      "A=[[ 0.00421397  0.8770905 ]\n",
      " [ 0.8016555   0.95779517]]\n",
      "[[ 0.         -0.00013945 -0.00339928 -0.00212185  0.0005594   0.0043103\n",
      "   0.00255526 -0.0039623  -0.00566209 -0.01529176]\n",
      " [ 0.         -0.00015228 -0.00374215 -0.00306176  0.00091174  0.00395471\n",
      "   0.00143644 -0.00369505 -0.00889097 -0.01588645]]\n",
      "(2, 18000)\n",
      "[[ 1.01834208  0.76214846  0.05319465 -1.19212751 -0.27936371  0.02776662\n",
      "  -0.57234043 -0.31052535  2.32930082  0.7528102 ]\n",
      " [-0.15579499  0.97148466  0.0553062  -1.41109068  0.32810189  0.03331526\n",
      "  -1.60544589 -0.35107292  2.53764186 -0.80500547]]\n",
      "x_per=(2, 18000)\n",
      "[ 0.99854594  0.99885435]\n",
      "[ 0.87610106  1.24819281]\n",
      "correlations=[[ 0.01469677  0.00782925]\n",
      " [-0.00077738  0.00256299]]\n",
      "W_nat=[[ 0.65710988  0.92029467]\n",
      " [ 0.41719034  0.16251409]]\n",
      "final=[[ 0.42626385 -1.95661622]\n",
      " [-0.56218682  2.93312187]]\n"
     ]
    }
   ],
   "source": [
    "import numpy as np\n",
    "\n",
    "#defines\n",
    "samplerate = 8192\n",
    "N = 2\n",
    "p = 18000\n",
    "\n",
    "#load the data\n",
    "dataSet1 = np.loadtxt('./sounds/sound1.dat')\n",
    "dataSet2 = np.loadtxt('./sounds/sound2.dat')\n",
    "s = np.stack([dataSet1, dataSet2], axis=0)\n",
    "\n",
    "print (s.shape)\n",
    "\n",
    "# create random and invertible NxN (2x2) matrix\n",
    "while True:\n",
    "    A = np.random.rand(2,2)\n",
    "    if np.linalg.det(A) != 0.0:\n",
    "        break\n",
    "print(\"A=\" + str(A))\n",
    "\n",
    "#mix the sources\n",
    "x = np.matmul(A, s)\n",
    "print(x[:,:10])\n",
    "print(x.shape)\n",
    "\n",
    "# remove temporal structure by permutation \n",
    "x_per = x[:, np.random.permutation(range(0,18000))]\n",
    "print(x_per[:,:10])\n",
    "print(\"x_per=\" + str(x_per.shape))\n",
    "\n",
    "#calculate correlation between sources and mixtures\n",
    "s_std = np.std(s,axis=1)\n",
    "x_per_std = np.std(x_per,axis=1)\n",
    "print(s_std)\n",
    "print(x_per_std) \n",
    "\n",
    "corr = np.zeros((2, 2))\n",
    "for i in range(0,2):\n",
    "\tfor j in range(0,2):\n",
    "\t\t#print(\"i=\" + str(i) + \" j=\" + str(j))\n",
    "\t\tcorr[i,j] = np.cov(s[i,:], x_per[j,:])[0][1] / (s_std[i] * x_per_std[j])\n",
    "\t\t#print(np.cov(s[i,:], x_per[j,:]))\n",
    "\t\t#print(\"corr[i,j]=\" + str(corr[i,j]))\n",
    "print(\"correlations=\" + str(corr))\n",
    "\n",
    "#center the data\n",
    "x_per = x_per - np.mean(x_per,axis=0);\n",
    "\n",
    "#initialize W at random\n",
    "W = np.random.rand(2,2)\n",
    "W_nat = np.copy(W)\n",
    "print(\"W_nat=\" + str(W_nat))\n",
    "def stepSigmoid(y):\n",
    "\treturn 1 - 2 * (1 / (1 + np.exp(-y)))\n",
    "\t\n",
    "vStepSigmoid = np.vectorize(stepSigmoid)\n",
    "eps = 0.01\n",
    "for i in range(0,1):\n",
    "\tW_inv = np.linalg.inv(W) \n",
    "#\tprint(\"W_inv=\" + str(W_inv)) \n",
    "#\tcurrX = x_per[:,i]\n",
    "#\tprint(\"currX=\" + str(currX)) \n",
    "#\tinpSig = np.dot(W,x_per[:,i])\n",
    "#\tprint(\"inpSig=\" + str(inpSig)) \n",
    "#\tprint(\"inpSigShape=\" + str(inpSig.shape)) \n",
    "#\tvStepSigmoidRes = vStepSigmoid(np.dot(W,x_per[:,i]))\n",
    "#\tprint(\"vStepSigmoidRes=\" + str(vStepSigmoidRes)) \n",
    "#\tprint(\"vStepSigmoidResShape=\" + str(vStepSigmoidRes.shape)) \n",
    "#\touter = np.outer(vStepSigmoid(np.dot(W,x_per[:,i])),x_per[:,i])\n",
    "#\tprint(\"outer=\" + str(outer)) \n",
    "#\tprint(\"outerShape=\" + str(outer.shape)) \n",
    "\tdW = W_inv.T + np.outer(vStepSigmoid(np.dot(W,x_per[:,i])),x_per[:,i])\n",
    "#\tprint(\"at iter\" + str(i) + \", dW=\" + str(dW))\n",
    "\tW = W + eps * dW\n",
    "#\tprint(\"at iter\" + str(i) + \", W=\" + str(W))\n",
    "\t#W_nat_inv = np.linalg.inv(W_nat) \n",
    "\t#dW_nat = W_nat_inv.T + np.outer(vStepSigmoid(np.dot(W_nat,x_per[:,i])),x_per[:,i])\n",
    "\t#W_nat = W_nat + eps * dW_nat * (np.matmul(W_nat.T, W_nat))\n",
    "\n",
    "print(\"final=\" + str(A - np.linalg.inv(W)))\n",
    "#print(\"final nat=\" + str(A - np.linalg.inv(W_nat)))"
   ]
  },
  {
   "cell_type": "markdown",
   "metadata": {},
   "source": [
    "## 5.3 Results"
   ]
  },
  {
   "cell_type": "markdown",
   "metadata": {},
   "source": [
    "(a) Plot and Play"
   ]
  },
  {
   "cell_type": "code",
   "execution_count": 5,
   "metadata": {
    "collapsed": false
   },
   "outputs": [
    {
     "ename": "NameError",
     "evalue": "name 'unmixedNormal' is not defined",
     "output_type": "error",
     "traceback": [
      "\u001b[0;31m---------------------------------------------------------------------------\u001b[0m",
      "\u001b[0;31mNameError\u001b[0m                                 Traceback (most recent call last)",
      "\u001b[0;32m<ipython-input-5-382d9e14f353>\u001b[0m in \u001b[0;36m<module>\u001b[0;34m()\u001b[0m\n\u001b[1;32m     12\u001b[0m \u001b[1;33m\u001b[0m\u001b[0m\n\u001b[1;32m     13\u001b[0m \u001b[1;31m# Unmixed with normal gradient.\u001b[0m\u001b[1;33m\u001b[0m\u001b[1;33m\u001b[0m\u001b[0m\n\u001b[0;32m---> 14\u001b[0;31m \u001b[0mwav\u001b[0m\u001b[1;33m.\u001b[0m\u001b[0mwrite\u001b[0m\u001b[1;33m(\u001b[0m\u001b[1;34m'UnmixedNormGrad1.wav'\u001b[0m\u001b[1;33m,\u001b[0m\u001b[1;36m8192\u001b[0m\u001b[1;33m,\u001b[0m\u001b[0munmixedNormal\u001b[0m\u001b[1;33m[\u001b[0m\u001b[1;36m0\u001b[0m\u001b[1;33m,\u001b[0m\u001b[1;33m:\u001b[0m\u001b[1;33m]\u001b[0m\u001b[1;33m)\u001b[0m\u001b[1;33m\u001b[0m\u001b[0m\n\u001b[0m\u001b[1;32m     15\u001b[0m \u001b[0mwav\u001b[0m\u001b[1;33m.\u001b[0m\u001b[0mwrite\u001b[0m\u001b[1;33m(\u001b[0m\u001b[1;34m'UnmixedNormGrad2.wav'\u001b[0m\u001b[1;33m,\u001b[0m\u001b[1;36m8192\u001b[0m\u001b[1;33m,\u001b[0m\u001b[0munmixedNormal\u001b[0m\u001b[1;33m[\u001b[0m\u001b[1;36m1\u001b[0m\u001b[1;33m,\u001b[0m\u001b[1;33m:\u001b[0m\u001b[1;33m]\u001b[0m\u001b[1;33m)\u001b[0m\u001b[1;33m\u001b[0m\u001b[0m\n\u001b[1;32m     16\u001b[0m \u001b[1;33m\u001b[0m\u001b[0m\n",
      "\u001b[0;31mNameError\u001b[0m: name 'unmixedNormal' is not defined"
     ]
    }
   ],
   "source": [
    "# Original sounds.\n",
    "wav.write('Source1.wav',8192,dataSet1)\n",
    "wav.write('Source2.wav',8192,dataSet2)\n",
    "\n",
    "# Mixed sounds.\n",
    "wav.write('Mixed1.wav',8192,x[0,:])\n",
    "wav.write('Mixed2.wav',8192,x[1,:])\n",
    "\n",
    "# Mixed and permutated.\n",
    "wav.write('MixedPerm1.wav',8192,x_per[0,:])\n",
    "wav.write('MixedPerm2.wav',8192,x_per[1,:])\n",
    "\n",
    "# Unmixed with normal gradient.\n",
    "wav.write('UnmixedNormGrad1.wav',8192,unmixedNormal[0,:])\n",
    "wav.write('UnmixedNormGrad2.wav',8192,unmixedNormal[1,:])\n",
    "\n",
    "# Unmixed with natural gradient.\n",
    "wav.write('UnmixedNatGrad1.wav',8192,unmixedNatural[0,:])\n",
    "wav.write('UnmixedNatGrad2.wav',8192,unmixedNatural[1,:])\n",
    "\n",
    "plt.figure()\n",
    "plt.plot(dataSet1)\n",
    "plt.xlabel('Time')\n",
    "plt.ylabel('Amplitude')\n",
    "plt.title('Sound1')\n",
    "\n",
    "plt.figure()\n",
    "plt.plot(dataSet2)\n",
    "plt.xlabel('Time')\n",
    "plt.ylabel('Amplitude')\n",
    "plt.title('Sound2')\n",
    "\n",
    "plt.figure()\n",
    "plt.plot(x[0,:])\n",
    "plt.xlabel('Time')\n",
    "plt.ylabel('Amplitude')\n",
    "plt.title('Sound1 mixed')\n",
    "plt.figure()\n",
    "plt.plot(x[1,:])\n",
    "plt.xlabel('Time')\n",
    "plt.ylabel('Amplitude')\n",
    "plt.title('Sound2 mixed')\n",
    "\n",
    "plt.figure()\n",
    "plt.plot(x_per[0,:])\n",
    "plt.xlabel('Time')\n",
    "plt.ylabel('Amplitude')\n",
    "plt.title('Sound1 mixed random')\n",
    "plt.figure()\n",
    "plt.plot(x_per[1,:])\n",
    "plt.xlabel('Time')\n",
    "plt.ylabel('Amplitude')\n",
    "plt.title('Sound2 mixed random')\n",
    "\n",
    "plt.figure()\n",
    "plt.plot(unmixedNormal[0,:])\n",
    "plt.xlabel('Time')\n",
    "plt.ylabel('Amplitude')\n",
    "plt.title('Sound1 unmixed normal gradient')\n",
    "plt.figure()\n",
    "plt.plot(unmixedNormal[1,:])\n",
    "plt.xlabel('Time')\n",
    "plt.ylabel('Amplitude')\n",
    "plt.title('Sound2 unmixed normal gradient')\n",
    "\n",
    "plt.figure()\n",
    "plt.plot(unmixedNatural[0,:])\n",
    "plt.xlabel('Time')\n",
    "plt.ylabel('Amplitude')\n",
    "plt.title('Sound1 unmixed natural gradient')\n",
    "plt.figure()\n",
    "plt.plot(unmixedNatural[1,:])\n",
    "plt.xlabel('Time')\n",
    "plt.ylabel('Amplitude')\n",
    "plt.title('Sound2 unmixed natural gradient')"
   ]
  },
  {
   "cell_type": "markdown",
   "metadata": {},
   "source": [
    "(b) Calculate correlations between the true sources and the estimations"
   ]
  },
  {
   "cell_type": "code",
   "execution_count": null,
   "metadata": {
    "collapsed": true
   },
   "outputs": [],
   "source": []
  },
  {
   "cell_type": "markdown",
   "metadata": {},
   "source": [
    "(c) Comparing learning speed, data whitening"
   ]
  },
  {
   "cell_type": "code",
   "execution_count": null,
   "metadata": {
    "collapsed": true
   },
   "outputs": [],
   "source": []
  },
  {
   "cell_type": "markdown",
   "metadata": {},
   "source": [
    "(d) Plotting density"
   ]
  },
  {
   "cell_type": "code",
   "execution_count": null,
   "metadata": {
    "collapsed": true
   },
   "outputs": [],
   "source": []
  }
 ],
 "metadata": {
  "kernelspec": {
   "display_name": "Python 3",
   "language": "python",
   "name": "python3"
  },
  "language_info": {
   "codemirror_mode": {
    "name": "ipython",
    "version": 3
   },
   "file_extension": ".py",
   "mimetype": "text/x-python",
   "name": "python",
   "nbconvert_exporter": "python",
   "pygments_lexer": "ipython3",
   "version": "3.6.0"
  }
 },
 "nbformat": 4,
 "nbformat_minor": 2
}
